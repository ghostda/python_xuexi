{
 "cells": [
  {
   "cell_type": "markdown",
   "metadata": {},
   "source": [
    "# 三大结构\n",
    "- 顺序\n",
    "- 分支\n",
    "- 循环"
   ]
  },
  {
   "cell_type": "markdown",
   "metadata": {},
   "source": [
    "# 分支\n",
    "    \n",
    "        if 条件表达式:\n",
    "            语句1\n",
    "            语句2\n",
    "            语句3\n",
    "            ......\n",
    "- 条件表达式就是计算结果必须为布尔值的表达式\n",
    "- 表达式后面的冒号不能少\n",
    "- 注意if后面出现的语句，如果属于if语句块，则必须同一个缩进等级\n",
    "- 调教表达式结果为True执行if下面的缩进的语句块"
   ]
  },
  {
   "cell_type": "code",
   "execution_count": 2,
   "metadata": {},
   "outputs": [
    {
     "name": "stdout",
     "output_type": "stream",
     "text": [
      "去叫家长\n",
      "我们不跟你玩\n",
      "滚球的\n"
     ]
    }
   ],
   "source": [
    "#if语句练习\n",
    "#如果age小于18岁，则打印“去叫家长”\n",
    "age = 17\n",
    "if age < 18:\n",
    "    print(\"去叫家长\")\n",
    "    print(\"我们不跟你玩\")\n",
    "    print(\"滚球的\")"
   ]
  },
  {
   "cell_type": "code",
   "execution_count": 6,
   "metadata": {},
   "outputs": [
    {
     "name": "stdout",
     "output_type": "stream",
     "text": [
      "开始上车喽，老司机们\n"
     ]
    }
   ],
   "source": [
    "#if语句练习\n",
    "#如果age小于18岁，则打印“去叫家长”\n",
    "age = 19\n",
    "if age < 18:\n",
    "    print(\"去叫家长\")\n",
    "    print(\"我们不跟你玩\")\n",
    "    print(\"滚球的\")\n",
    "\n",
    "    \n",
    "print(\"开始上车喽，老司机们\")"
   ]
  },
  {
   "cell_type": "code",
   "execution_count": 9,
   "metadata": {},
   "outputs": [
    {
     "name": "stdout",
     "output_type": "stream",
     "text": [
      "上课罗\n",
      "上课\n"
     ]
    }
   ],
   "source": [
    "print(\"上课罗\")\n",
    "gender = \"男\"\n",
    "if gender == \"女\":\n",
    "    print(\"来，叔叔给你糖吃\")\n",
    "    \n",
    "print(\"上课\")"
   ]
  },
  {
   "cell_type": "markdown",
   "metadata": {},
   "source": [
    "### 双向分支\n",
    "- if ...else ... 语句\n",
    "     \n",
    "        if 条件表达式:\n",
    "           语句1\n",
    "           语句2\n",
    "           ...\n",
    "        else：\n",
    "           语句1\n",
    "           语句2\n",
    "           ...\n",
    "         \n",
    "- 双向分支有两个分支，当程序执行到if...else...语句时，一定会执行if或者else下面的语句，也仅仅执行一个\n",
    "- 缩进问题，if和else在一个层级，其余语句在一个层级         "
   ]
  },
  {
   "cell_type": "code",
   "execution_count": 21,
   "metadata": {},
   "outputs": [
    {
     "name": "stdout",
     "output_type": "stream",
     "text": [
      "输入性别：\n",
      "你输入的性别是：\n",
      "发糖吃\n",
      "开始上课\n"
     ]
    }
   ],
   "source": [
    "#input的作用\n",
    "#1.在屏幕上输出括号内的字符串\n",
    "#2.接受用户输入的内容并返回到程序\n",
    "#3.input返回的内容一定是字符串类型\n",
    "gender = input(\"输入性别：\")\n",
    "print(\"你输入的性别是：{0}\".format(gender))\n",
    "\n",
    "if gender ==\"nan\":\n",
    "    print(\"来，我们学习代码\")\n",
    "else:\n",
    "    print(\"发糖吃\")\n",
    "\n",
    "print(\"开始上课\")"
   ]
  },
  {
   "cell_type": "code",
   "execution_count": 24,
   "metadata": {},
   "outputs": [
    {
     "name": "stdout",
     "output_type": "stream",
     "text": [
      "输入学生成绩：90\n",
      "优秀\n"
     ]
    }
   ],
   "source": [
    "#考试成绩\n",
    "#90以上：输出优秀\n",
    "#80-90：凉\n",
    "#70-80：中\n",
    "#60-70：平\n",
    "#60以下：我没你这撒学生\n",
    "\n",
    "#score存放学生成绩\n",
    "#注意input返回值是字符串类型\n",
    "score = input(\"输入学生成绩：\")\n",
    "#需要把str转换成int\n",
    "score = int(score)\n",
    "\n",
    "if score >= 90:\n",
    "    print(\"优秀\")\n",
    "if score >= 80 and score<90:\n",
    "    print(\"良\")\n",
    "if score >= 70 and score<80:\n",
    "    print(\"中\")\n",
    "if score >= 60 and score<70:\n",
    "    print(\"平\")\n",
    "if score < 60:\n",
    "    print(\"我没你这撒学生\")"
   ]
  },
  {
   "cell_type": "markdown",
   "metadata": {},
   "source": [
    "## 多路分支\n",
    "- 很多分支的情况，简称多路分支\n",
    "\n",
    "        if 条件表达式:\n",
    "            语句1\n",
    "            ....\n",
    "        elif 条件表达式:\n",
    "            语句1\n",
    "            .....\n",
    "        elif 条件表达式:\n",
    "            语句1\n",
    "            ....\n",
    "        ....\n",
    "        else:\n",
    "            语句1\n",
    "            ....\n",
    "- elif可以有无限多个\n",
    "- else可以没有\n",
    "- 多路分支只会选一个执行"
   ]
  },
  {
   "cell_type": "code",
   "execution_count": 27,
   "metadata": {},
   "outputs": [
    {
     "name": "stdout",
     "output_type": "stream",
     "text": [
      "输入学生成绩：1\n",
      "我没你这撒学生\n"
     ]
    }
   ],
   "source": [
    "#考试成绩\n",
    "#90以上：输出优秀\n",
    "#80-90：凉\n",
    "#70-80：中\n",
    "#60-70：平\n",
    "#60以下：我没你这撒学生\n",
    "\n",
    "#score存放学生成绩\n",
    "#注意input返回值是字符串类型\n",
    "score = input(\"输入学生成绩：\")\n",
    "#需要把str转换成int\n",
    "score = int(score)\n",
    "\n",
    "if score >= 90:\n",
    "    print(\"优秀\")\n",
    "elif score >= 80:\n",
    "    print(\"良\")\n",
    "elif score >= 70:\n",
    "    print(\"中\")\n",
    "elif score >= 60:\n",
    "    print(\"平\")\n",
    "else:\n",
    "    print(\"我没你这撒学生\")"
   ]
  },
  {
   "cell_type": "markdown",
   "metadata": {},
   "source": [
    "## if语句其他：\n",
    "- if语句可以嵌套使用，但不推荐\n",
    "- python没有switch-case语句"
   ]
  },
  {
   "cell_type": "markdown",
   "metadata": {},
   "source": [
    "# 循环语句\n",
    "- 重复执行某些固定动作或者处理基本固定的事物\n",
    "- 分类\n",
    "    - for循环\n",
    "    - while 循环"
   ]
  },
  {
   "cell_type": "markdown",
   "metadata": {},
   "source": [
    "## for循环\n",
    "- for循环\n",
    "    \n",
    "        for 变量 in 序列:\n",
    "            语句1\n",
    "            语句2\n",
    "            ...."
   ]
  },
  {
   "cell_type": "code",
   "execution_count": 28,
   "metadata": {},
   "outputs": [
    {
     "name": "stdout",
     "output_type": "stream",
     "text": [
      "zhangsan\n",
      "lisi\n",
      "wangwu\n",
      "jingjing\n"
     ]
    }
   ],
   "source": [
    "#列表就是一列数字或者其他的值，一般用中括号表示\n",
    "#例如['zhangsan','lisi','wangwu','jingjing']\n",
    "\n",
    "#打印名字\n",
    "for name in ['zhangsan','lisi','wangwu','jingjing']:\n",
    "    print(name)"
   ]
  },
  {
   "cell_type": "code",
   "execution_count": 31,
   "metadata": {},
   "outputs": [
    {
     "name": "stdout",
     "output_type": "stream",
     "text": [
      "zhangsan同学我们不约\n",
      "lisi同学我们不约\n",
      "wangwu同学我们不约\n",
      "我的最爱jingjing出现了\n"
     ]
    }
   ],
   "source": [
    "#打印名字\n",
    "#如果是jingjing，那是我的最爱\n",
    "#如果是别的人，要冷酷的拒绝\n",
    "for name in ['zhangsan','lisi','wangwu','jingjing']:\n",
    "    if name == \"jingjing\":\n",
    "        print(\"我的最爱{0}出现了\".format(name))\n",
    "    else:\n",
    "        print(\"{0}同学我们不约\".format(name))\n",
    " "
   ]
  },
  {
   "cell_type": "markdown",
   "metadata": {},
   "source": [
    "## range介绍\n",
    "- 生成一个数字序列\n",
    "- 具体的范围可以设定"
   ]
  },
  {
   "cell_type": "code",
   "execution_count": 34,
   "metadata": {},
   "outputs": [
    {
     "name": "stdout",
     "output_type": "stream",
     "text": [
      "1\n",
      "2\n",
      "3\n",
      "4\n",
      "5\n",
      "6\n",
      "7\n",
      "8\n",
      "9\n",
      "10\n"
     ]
    }
   ],
   "source": [
    "# range练习\n",
    "#打印从1-10的数字\n",
    "#注意，一般在python中，如果有表示数字范围的两个数，一般是包含左边不包含右边的数字\n",
    "#randint是特例，它左右都包含\n",
    "#range函数在python2和python3中有严重区别\n",
    "for i in range(1,11):\n",
    "    print(i)"
   ]
  },
  {
   "cell_type": "markdown",
   "metadata": {},
   "source": [
    "## for-else语句\n",
    "- 当for循环结束的时候，会执行else语句\n",
    "- else语句时可选的语句\n"
   ]
  },
  {
   "cell_type": "code",
   "execution_count": 35,
   "metadata": {},
   "outputs": [
    {
     "name": "stdout",
     "output_type": "stream",
     "text": [
      "zhangsan同学我们不约\n",
      "lisi同学我们不约\n",
      "wangwu同学我们不约\n",
      "我的最爱jingjing出现了\n",
      "别的同学我都不会再爱了\n"
     ]
    }
   ],
   "source": [
    "#for-else语句\n",
    "#打印列表中的同学\n",
    "#如果没有在列表中，或者列表结束了，我们需要打印提示语句，表示不再爱了\n",
    "\n",
    "#打印名字\n",
    "#如果是jingjing，那是我的最爱\n",
    "#如果是别的人，要冷酷的拒绝\n",
    "for name in ['zhangsan','lisi','wangwu','jingjing']:\n",
    "    if name == \"jingjing\":\n",
    "        print(\"我的最爱{0}出现了\".format(name))\n",
    "    else:\n",
    "        print(\"{0}同学我们不约\".format(name))\n",
    "\n",
    "else:\n",
    "    print(\"别的同学我都不会再爱了\")"
   ]
  },
  {
   "cell_type": "markdown",
   "metadata": {},
   "source": [
    "## for循环之break，continue，pass\n",
    "- break：无条件结束整个循环，简称循环猝死\n",
    "- continue：无条件结束本次循环，从新进入下一轮循环\n",
    "- pass：表示略过，通常用于占位"
   ]
  },
  {
   "cell_type": "code",
   "execution_count": 38,
   "metadata": {},
   "outputs": [
    {
     "name": "stdout",
     "output_type": "stream",
     "text": [
      "i love you\n",
      "i love you\n",
      "i love you\n",
      "i love you\n",
      "i love you\n",
      "i love you\n",
      "i love you\n",
      "i love you\n",
      "i love you\n",
      "i love you\n",
      "1\n",
      "2\n",
      "3\n",
      "4\n",
      "5\n",
      "6\n",
      "找到7了\n"
     ]
    }
   ],
   "source": [
    "# 在1-10的数字中，寻找数字7，一旦找到，打印出来，其余则什么都不做\n",
    "# for循环中的变量表示，一般用i,k,m,n或者indx,idx,item之类\n",
    "# python中，如果循环变量名称不重要，可以用下划线(_)代替\n",
    "\n",
    "# 这个变量_跟循环内容没什么关系，所以可以用下划线_，不用具体字母\n",
    "for _ in range(1,11):\n",
    "    print(\"i love you\")\n",
    "    \n",
    "\n",
    "for i in range(1,11):\n",
    "    if i == 7:\n",
    "        print(\"找到7了\")\n",
    "        break\n",
    "    else:\n",
    "        print(i)    "
   ]
  },
  {
   "cell_type": "code",
   "execution_count": 42,
   "metadata": {},
   "outputs": [
    {
     "name": "stdout",
     "output_type": "stream",
     "text": [
      "2是偶数\n",
      "4是偶数\n",
      "6是偶数\n",
      "8是偶数\n",
      "10是偶数\n"
     ]
    }
   ],
   "source": [
    "# continue语句\n",
    "# 在1-10的数字中，寻找偶数，找到偶数后打印偶数\n",
    "# 奇数什么也不干\n",
    "\n",
    "for i in range(1,11):\n",
    "    #对i进行取余数，余数是1就是奇数\n",
    "    # 是奇数就跳过本轮循环，继续下一轮\n",
    "    if i % 2 == 1:    \n",
    "        continue\n",
    "    else:\n",
    "        print(\"{0}是偶数\".format(i))"
   ]
  },
  {
   "cell_type": "code",
   "execution_count": 44,
   "metadata": {},
   "outputs": [
    {
     "name": "stdout",
     "output_type": "stream",
     "text": [
      "2是偶数\n",
      "4是偶数\n",
      "6是偶数\n",
      "8是偶数\n",
      "10是偶数\n"
     ]
    }
   ],
   "source": [
    "# continue语句 版本2\n",
    "# 在1-10的数字中，寻找偶数，找到偶数后打印偶数\n",
    "# 奇数什么也不干\n",
    "\n",
    "for i in range(1,11):\n",
    "    #对i进行取余数，余数是0就是偶数\n",
    "    if i % 2 == 0:    \n",
    "        print(\"{0}是偶数\".format(i))"
   ]
  },
  {
   "cell_type": "code",
   "execution_count": 46,
   "metadata": {},
   "outputs": [
    {
     "name": "stdout",
     "output_type": "stream",
     "text": [
      "2是偶数\n",
      "4是偶数\n",
      "6是偶数\n",
      "8是偶数\n",
      "10是偶数\n"
     ]
    }
   ],
   "source": [
    "# continue语句 版本3\n",
    "# 在1-10的数字中，寻找偶数，找到偶数后打印偶数\n",
    "# 本案例完整显示continue的用法和作用\n",
    "\n",
    "for i in range(1,11):\n",
    "    #如果i余数是1，执行if内的continue就是结束本轮循环，进入下一轮\n",
    "    #下一轮肯定是偶数，是偶数余数就不是1，就不会执行if内语句\n",
    "    #直接到print，就会把偶数打印出来了\n",
    "    if i % 2 == 1:\n",
    "        #如果是奇数，结束本轮循环\n",
    "        continue\n",
    "    print(\"{0}是偶数\".format(i))"
   ]
  },
  {
   "cell_type": "code",
   "execution_count": 47,
   "metadata": {},
   "outputs": [
    {
     "name": "stdout",
     "output_type": "stream",
     "text": [
      "i love you\n",
      "i love you\n",
      "i love you\n",
      "i love you\n",
      "i love you\n",
      "i love you\n",
      "i love you\n",
      "i love you\n",
      "i love you\n",
      "i love you\n"
     ]
    }
   ],
   "source": [
    "#pass例子，一般用于占位\n",
    "# pass没有跳过功能。只是占个位\n",
    "\n",
    "for i in range(1,11):\n",
    "    pass\n",
    "    print(\"i love you\")"
   ]
  }
 ],
 "metadata": {
  "kernelspec": {
   "display_name": "Python 3",
   "language": "python",
   "name": "python3"
  },
  "language_info": {
   "codemirror_mode": {
    "name": "ipython",
    "version": 3
   },
   "file_extension": ".py",
   "mimetype": "text/x-python",
   "name": "python",
   "nbconvert_exporter": "python",
   "pygments_lexer": "ipython3",
   "version": "3.7.1"
  }
 },
 "nbformat": 4,
 "nbformat_minor": 2
}
