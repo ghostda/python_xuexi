{
 "cells": [
  {
   "cell_type": "markdown",
   "metadata": {},
   "source": [
    "# 字符串\n",
    "- 转义字符\n",
    "- 格式化\n",
    "- 内建函数\n",
    "\n",
    "## 转义字符\n",
    "- 用一个特殊的方法表示出一系列不方便写出来的内容，比如回车，换行，退格\n",
    "- 借助反斜杠字符，一旦字符串中出现反斜杠，则反斜杠后面的一个或几个字符已经不是原本的意思"
   ]
  },
  {
   "cell_type": "code",
   "execution_count": 4,
   "metadata": {},
   "outputs": [
    {
     "name": "stdout",
     "output_type": "stream",
     "text": [
      "Let's go\n",
      "Let's go\n",
      "c:\\user\n",
      "i love \r\n",
      " wangxiaomei\n"
     ]
    }
   ],
   "source": [
    "#如果想表示出let's\n",
    "#1.可以使用嵌套引号，即外围使用双引号\n",
    "#2、转义字符\n",
    "s = \"Let's go\"\n",
    "print(s)\n",
    "\n",
    "ss = 'Let\\'s go'\n",
    "print(ss)\n",
    "\n",
    "sss = \"c:\\\\user\"\n",
    "print(sss)\n",
    "\n",
    "#回车换行符\n",
    "s1 = \"i love \\r\\n wangxiaomei\"\n",
    "print(s1)"
   ]
  },
  {
   "cell_type": "markdown",
   "metadata": {},
   "source": [
    "## 字符串的格式化\n",
    "- 把字符串按照一定的格式打印或者填充\n",
    "- 格式化有两种方法\n",
    "    - 利用百分号（%）\n",
    "    - 利用format函数"
   ]
  },
  {
   "cell_type": "code",
   "execution_count": 5,
   "metadata": {},
   "outputs": [],
   "source": [
    "s = \"xxx 你好，我们开课了\""
   ]
  },
  {
   "cell_type": "markdown",
   "metadata": {},
   "source": [
    "### 利用百分号格式化\n",
    "- 在字符串中，利用%表示一个特殊的含义，表示对字符进行格式化\n",
    "- %d：此处应该放入一个整数\n",
    "- %s：表示此处应该放入一个字符串"
   ]
  },
  {
   "cell_type": "code",
   "execution_count": 7,
   "metadata": {},
   "outputs": [
    {
     "name": "stdout",
     "output_type": "stream",
     "text": [
      "i love %s\n"
     ]
    }
   ],
   "source": [
    "s = \"i love %s\"\n",
    "#下面打印，会把%s当成字符串内容打印出来\n",
    "print(s)"
   ]
  },
  {
   "cell_type": "code",
   "execution_count": 9,
   "metadata": {},
   "outputs": [
    {
     "name": "stdout",
     "output_type": "stream",
     "text": [
      "I love wangxiaojing\n"
     ]
    }
   ],
   "source": [
    "print(\"I love %s\"%\"wangxiaojing\")"
   ]
  },
  {
   "cell_type": "code",
   "execution_count": 11,
   "metadata": {},
   "outputs": [
    {
     "name": "stdout",
     "output_type": "stream",
     "text": [
      "i love wangxiaojing\n"
     ]
    }
   ],
   "source": [
    "print(s%\"wangxiaojing\")"
   ]
  },
  {
   "cell_type": "code",
   "execution_count": 13,
   "metadata": {},
   "outputs": [
    {
     "name": "stdout",
     "output_type": "stream",
     "text": [
      "i am %d years old\n",
      "i am 18 years old\n"
     ]
    }
   ],
   "source": [
    "s = \"i am %d years old\"\n",
    "#留意下面打印结果\n",
    "print(s)\n",
    "print(s%18)"
   ]
  },
  {
   "cell_type": "code",
   "execution_count": 16,
   "metadata": {},
   "outputs": [
    {
     "name": "stdout",
     "output_type": "stream",
     "text": [
      "i am %s,i am %d years old\n",
      "i am huayu,i am 18 years old\n"
     ]
    }
   ],
   "source": [
    "s = \"i am %s,i am %d years old\"\n",
    "print(s)\n",
    "#如果字符串中有占位符，则有几个占位符必须用几个实际内容代替，或者一个也不要\n",
    "print(s%(\"huayu\",18))"
   ]
  },
  {
   "cell_type": "markdown",
   "metadata": {},
   "source": [
    "### format函数格式化字符串\n",
    "- 直接用format函数进行格式化\n",
    "- 推荐使用这种方法\n",
    "- 在使用上，以{}和：代替%号，后面用format带参数完成"
   ]
  },
  {
   "cell_type": "code",
   "execution_count": 19,
   "metadata": {},
   "outputs": [
    {
     "name": "stdout",
     "output_type": "stream",
     "text": [
      "i love lixiaojing\n",
      "Yes, I Am 18 years old,I Love xuexi and I am 18 years old\n"
     ]
    }
   ],
   "source": [
    "s = \"i love {}\".format(\"lixiaojing\")\n",
    "print(s)\n",
    "\n",
    "s = \"Yes, I Am {1} years old,I Love {0} and I am {1} years old\".format(\"xuexi\",18)\n",
    "print(s)"
   ]
  },
  {
   "cell_type": "markdown",
   "metadata": {},
   "source": [
    "## None\n",
    "- 表示什么都没有\n",
    "- 如果函数没有返回值，可以返回None\n",
    "- 用来占位置\n",
    "- 用来解除变量的绑定\n"
   ]
  },
  {
   "cell_type": "markdown",
   "metadata": {},
   "source": [
    "# 表达式\n",
    "- 由一个或者几个数字或者变量和运算符组合成的一行代码\n",
    "- 通常会返回一个结果\n",
    "\n",
    "# 运算符\n",
    "- 由一个以上的值经过变化得到新值得过程叫运算\n",
    "- 用于运算的符号叫做运算符\n",
    "- 运算符分类：\n",
    "    - 算数运算符\n",
    "    - 比较或者关系运算符\n",
    "    - 赋值运算符\n",
    "    - 逻辑运算符\n",
    "    - 位运算\n",
    "    - 成员运算符\n",
    "    - 身份运算符\n",
    "    "
   ]
  },
  {
   "cell_type": "markdown",
   "metadata": {},
   "source": [
    "## 算数运算符\n",
    "- 进行算数运算的符号\n",
    "- python没有自增减运算符"
   ]
  },
  {
   "cell_type": "code",
   "execution_count": 21,
   "metadata": {},
   "outputs": [
    {
     "name": "stdout",
     "output_type": "stream",
     "text": [
      "10\n",
      "18\n",
      "1\n",
      "2\n",
      "6561\n"
     ]
    }
   ],
   "source": [
    "#+，-，*,/\n",
    "a = 9 + 2 - 1\n",
    "print(a)\n",
    "a = 9 * 2\n",
    "print(a)\n",
    "#在Python2和3中，除号（/）结果可能不一致，此处以3系列为准\n",
    "a = 9 % 4 #取余数\n",
    "print(a)\n",
    "\n",
    "# %取余运算\n",
    "# 两个数值相除应该有商有余数\n",
    "# % 只会取得余数\n",
    "\n",
    "# //表示取商运算，也叫地板除\n",
    "a = 9 // 4\n",
    "print(a)\n",
    "\n",
    "# **表示幂运算\n",
    "a = 9 ** 4 #9的4次方\n",
    "print(a)\n"
   ]
  },
  {
   "cell_type": "markdown",
   "metadata": {},
   "source": [
    "## 比较运算符\n",
    "- 对两个变量或者值进行比较的运算符\n",
    "- 比较的结果是布尔值，即True/False\n"
   ]
  },
  {
   "cell_type": "code",
   "execution_count": 24,
   "metadata": {},
   "outputs": [
    {
     "name": "stdout",
     "output_type": "stream",
     "text": [
      "False\n",
      "True\n"
     ]
    }
   ],
   "source": [
    "# == ，等于号\n",
    "a = 3 ** 4\n",
    "#下面语句执行顺序\n",
    "#1、计算 a == 80\n",
    "#2、把结果放入b中\n",
    "b = a == 80\n",
    "print(b)\n",
    "\n",
    "# != 不等于\n",
    "print(9!=8)\n",
    "\n",
    "# > 大于\n",
    "# < 小于\n",
    "#>= 大于等于\n",
    "#<= 小于等于"
   ]
  },
  {
   "cell_type": "markdown",
   "metadata": {},
   "source": [
    "## 赋值运算符\n"
   ]
  },
  {
   "cell_type": "code",
   "execution_count": 26,
   "metadata": {},
   "outputs": [
    {
     "name": "stdout",
     "output_type": "stream",
     "text": [
      "7\n"
     ]
    }
   ],
   "source": [
    "# = 赋值\n",
    "a = 0\n",
    "b = 1\n",
    "\n",
    "#+=  是\n",
    "a = 0\n",
    "a += 7 #a = a + 7的缩写\n",
    "\n",
    "print(a)\n",
    "\n",
    "#所有的数学运算符都有类似的缩写形式\n",
    "#-=，*=， /=  ......"
   ]
  },
  {
   "cell_type": "markdown",
   "metadata": {},
   "source": [
    "# 逻辑运算符\n",
    "- 对布尔值进行计算的符号\n",
    "- and 逻辑与\n",
    "- or 逻辑或\n",
    "- not 逻辑非\n",
    "- python中逻辑运算没有异或运算\n",
    "- 运算规则：\n",
    "    - and看做乘法，or看做加法\n",
    "    - True看做1，False看做0\n",
    "    - 则逻辑运算就能转换成整数运算\n",
    "    - 最后结果如果是0则为False，否则为True\n",
    "- 逻辑运算的短路问题\n",
    "    - 逻辑运算式，按照运算顺序计算，一旦能够确定整个式子未来的值，则不在进行计算，直接返回\n",
    "    "
   ]
  },
  {
   "cell_type": "code",
   "execution_count": 28,
   "metadata": {},
   "outputs": [
    {
     "name": "stdout",
     "output_type": "stream",
     "text": [
      "True\n"
     ]
    }
   ],
   "source": [
    "#逻辑运算符\n",
    "a = True\n",
    "b = False\n",
    "c = True\n",
    "\n",
    "d = a and b or c\n",
    "print(d)"
   ]
  },
  {
   "cell_type": "code",
   "execution_count": 29,
   "metadata": {},
   "outputs": [
    {
     "ename": "SyntaxError",
     "evalue": "can't assign to operator (<ipython-input-29-5d43a84cb045>, line 8)",
     "output_type": "error",
     "traceback": [
      "\u001b[1;36m  File \u001b[1;32m\"<ipython-input-29-5d43a84cb045>\"\u001b[1;36m, line \u001b[1;32m8\u001b[0m\n\u001b[1;33m    a = a or b = 9 and 6\u001b[0m\n\u001b[1;37m       ^\u001b[0m\n\u001b[1;31mSyntaxError\u001b[0m\u001b[1;31m:\u001b[0m can't assign to operator\n"
     ]
    }
   ],
   "source": [
    "# 逻辑运算的短路\n",
    "# 下面的逻辑表达式，a的值一定是True，则运行到or后面的就不在运算\n",
    "a = True or xxxxxxxxx\n",
    "\n",
    "#下面表达式中，若果XXXX中包含赋值表达式，则结果很难预期\n",
    "#代码示例（伪代码）\n",
    "b = 9\n",
    "a = a or b = 9 and 6\n",
    "#嘉定上面表达式没有语法错误\n",
    "#则b最终的值应该是0而不是9\n",
    "print(b)\n",
    "print(a)"
   ]
  },
  {
   "cell_type": "markdown",
   "metadata": {},
   "source": [
    "# 成员运算 符号\n",
    "- 用来检测某一个变量是否是另一个变量的成员\n",
    "- in\n",
    "- not in"
   ]
  },
  {
   "cell_type": "code",
   "execution_count": 33,
   "metadata": {},
   "outputs": [
    {
     "name": "stdout",
     "output_type": "stream",
     "text": [
      "False\n",
      "True\n",
      "False\n"
     ]
    }
   ],
   "source": [
    "l = [1,2,3,4,5,6]\n",
    "a = 7\n",
    "\n",
    "b = a in l\n",
    "print(b)\n",
    "\n",
    "a = 4\n",
    "print(a in l)\n",
    "print(a not in l)"
   ]
  },
  {
   "cell_type": "markdown",
   "metadata": {},
   "source": [
    "## 身份运算\n",
    "- is:用来检测两个变量是否同一个变量\n",
    "     - 语法就是 var1 is var2\n",
    "- is not:两个变量不是同一个变量\n"
   ]
  },
  {
   "cell_type": "code",
   "execution_count": 36,
   "metadata": {},
   "outputs": [
    {
     "name": "stdout",
     "output_type": "stream",
     "text": [
      "True\n",
      "False\n"
     ]
    }
   ],
   "source": [
    "a = 9\n",
    "b = 9\n",
    "print(a is b)\n",
    "\n",
    "a = \"i love wangxiaojing\"\n",
    "b = \"i love wangxiaojing\"\n",
    "print(a is b)"
   ]
  },
  {
   "cell_type": "markdown",
   "metadata": {},
   "source": [
    "## 运算符的优先级问题\n",
    "- 永远记住，括号具有最高优先级\n",
    "- 优先级"
   ]
  },
  {
   "cell_type": "markdown",
   "metadata": {},
   "source": [
    "# 程序结构\n",
    "- 顺序\n",
    "- 分支\n",
    "- 循环"
   ]
  }
 ],
 "metadata": {
  "kernelspec": {
   "display_name": "Python 3",
   "language": "python",
   "name": "python3"
  },
  "language_info": {
   "codemirror_mode": {
    "name": "ipython",
    "version": 3
   },
   "file_extension": ".py",
   "mimetype": "text/x-python",
   "name": "python",
   "nbconvert_exporter": "python",
   "pygments_lexer": "ipython3",
   "version": "3.7.1"
  }
 },
 "nbformat": 4,
 "nbformat_minor": 2
}
