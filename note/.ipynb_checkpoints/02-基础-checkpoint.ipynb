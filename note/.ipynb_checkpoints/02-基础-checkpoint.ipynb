{
 "cells": [
  {
   "cell_type": "markdown",
   "metadata": {},
   "source": [
    "# 学习anaconda和pycharm安装\n",
    "\n",
    " - anaconda安装后不用再装python\n",
    " "
   ]
  },
  {
   "cell_type": "markdown",
   "metadata": {},
   "source": [
    "# jupyter的每个框叫一个cell\n",
    "## cell有两种模式：command和edit模式\n",
    "- comman模式下按m键进入markdown（就是笔记模式）y键进入code（代码模式）\n",
    "- enter进入编辑模式\n",
    "- command模式下，a键在cell上面建立一个cell，b键在下面建立一个cell\n",
    "- shift+回车进入下一个cell\n",
    "- ctrl+回车执行一个cell里的code，Alt+回车执行当前cell然后在下面再建立一个cell"
   ]
  },
  {
   "cell_type": "code",
   "execution_count": 1,
   "metadata": {},
   "outputs": [
    {
     "name": "stdout",
     "output_type": "stream",
     "text": [
      "hello world\n"
     ]
    }
   ],
   "source": [
    "#注释\n",
    "'''块注释\n",
    "可以换行写\n",
    "'''\n",
    "print(\"hello world\")#这里也可以注释"
   ]
  },
  {
   "cell_type": "markdown",
   "metadata": {},
   "source": [
    "# 注释的写法\n",
    "  - 行注释：以井号#开头。可以单独一行，也可以在某行代码后面写\n",
    "  - 块注释：好几行内容。以三个单引号开始，三个单引号结束，中间的任何内容，可以换行\n",
    "  "
   ]
  },
  {
   "cell_type": "markdown",
   "metadata": {},
   "source": [
    "# 变量\n",
    "- 程序=数据结构+算法\n",
    "- 变量就是一个可以重复使用的量，或者叫一个代号\n",
    "- 变量命名的规则\n",
    "  - 变量名可以包含数值，大小写字母，下划线或者更多，但是不推荐使用前三种之外的\n",
    "  - 数字不可以开头\n",
    "    - 4man，5for 是不可以的\n",
    "    - man4，for5 可以\n",
    "  - 一般在Python中，以下划线开头的内容具有特殊含义，不建议使用\n",
    "    - 比如_age,_name,理论上可以，但不推荐\n",
    "  - 大小写不一样\n",
    "    - ForMan和forMan不是一个变量名称\n",
    "  - 推荐\n",
    "    - 使用具有固定含义的英文单词或者缩写\n",
    "    - 驼峰命名法\n",
    "      - 名称以单词自动连接，且每个单词首字母大写\n",
    "        - 大驼峰，每个单词第一个字母均大写（这个用的比较多）\n",
    "          - 在python中给类命名一般用次写法\n",
    "          - MyFirstLove，IntOne\n",
    "        - 小驼峰，类似大驼峰，不过第一个字母小写\n",
    "          - 在python中一般给普通变量或者函数命名\n",
    "          - myFirstLove，intOne\n",
    "        - posix写法（python中用这个也可以）\n",
    "          - 多个单词用下划线连接\n",
    "          - 单词全部小写\n",
    "          - my_first_love,int_one\n",
    "        - 保留字和关键字\n",
    "          - class，def，break，for（类似这些不允许作为变量名）"
   ]
  },
  {
   "cell_type": "code",
   "execution_count": 3,
   "metadata": {},
   "outputs": [
    {
     "name": "stdout",
     "output_type": "stream",
     "text": [
      "['False', 'None', 'True', 'and', 'as', 'assert', 'async', 'await', 'break', 'class', 'continue', 'def', 'del', 'elif', 'else', 'except', 'finally', 'for', 'from', 'global', 'if', 'import', 'in', 'is', 'lambda', 'nonlocal', 'not', 'or', 'pass', 'raise', 'return', 'try', 'while', 'with', 'yield']\n"
     ]
    }
   ],
   "source": [
    "#查看关键字的方法\n",
    "import keyword#引入关键字模块\n",
    "print(keyword.kwlist)"
   ]
  },
  {
   "cell_type": "markdown",
   "metadata": {},
   "source": [
    "## 变量声明\n",
    "- var_name = var_value\n",
    "  - 变量名  赋值  变量，这里的=是赋值的意思，表示把后面的变量\n",
    "    装进前面的变量名里面。一般两个=是等号的意思\n",
    "- var1 = var2 = var3 = var_value\n",
    "- var1,var2,var3 = v1,v2,v3"
   ]
  },
  {
   "cell_type": "code",
   "execution_count": 8,
   "metadata": {},
   "outputs": [
    {
     "name": "stdout",
     "output_type": "stream",
     "text": [
      "18\n",
      "18\n",
      "18\n",
      "18\n",
      "18\n",
      "12\n",
      "21\n",
      "45\n"
     ]
    }
   ],
   "source": [
    "#定义变量age，把18放进age中\n",
    "age = 18\n",
    "print(age)\n",
    "print(18)\n",
    "\n",
    "#给age1，gae2,age3放入同样一个内容\n",
    "age1 = age2 = age3 = 18\n",
    "print(age1)\n",
    "print(age2)\n",
    "print(age3)\n",
    "\n",
    "#一行内给多个变量赋值\n",
    "age4, age5, age6 = 12, 21, 45\n",
    "print(age4)\n",
    "print(age5)\n",
    "print(age6)"
   ]
  },
  {
   "cell_type": "markdown",
   "metadata": {},
   "source": [
    "## 变量的类型\n",
    "- 严格意义上讲，python只有一个类型\n",
    "- 标准数据类型一共有六种\n",
    "    - 数字类型Number\n",
    "    - 字符串 str\n",
    "    - 列表 list\n",
    "    - 元组 tuple\n",
    "    - 字典 dictionary\n",
    "    - 集合 set"
   ]
  },
  {
   "cell_type": "markdown",
   "metadata": {},
   "source": [
    "## Number数字类型\n",
    "- 数字类型没有大小限制\n",
    "### 整数\n",
    "- 没有小数部分，表示个数的数字\n",
    "- 自然数，0，负自然数\n",
    "- 整数分进制\n",
    "    - 二进制\n",
    "        - 计算机常用\n",
    "        - 是进算计唯一能直接理解的数字\n",
    "        - 表示为0b开头的0，1代码\n",
    "        - 例如0b0001,0b1010\n",
    "    - 八进制\n",
    "        - 不常用\n",
    "        - 以0o开头的包含0-7的数字\n",
    "    - 十六进制\n",
    "        - 逢16进1\n",
    "        - 其实是每四位二进制表示一位十六进制数\n",
    "        - 包含0-9，a-f\n",
    "        - 数字上以0x开头\n",
    "    - 十进制\n",
    "        - 18,89,100"
   ]
  },
  {
   "cell_type": "code",
   "execution_count": 17,
   "metadata": {},
   "outputs": [
    {
     "name": "stdout",
     "output_type": "stream",
     "text": [
      "18\n",
      "18\n",
      "18\n",
      "255\n"
     ]
    }
   ],
   "source": [
    "age = 18\n",
    "print(age)\n",
    "\n",
    "age = 0b10010\n",
    "print(age)\n",
    "\n",
    "age = 0o22\n",
    "print(age)\n",
    "\n",
    "age = 0xff#十六进制的ff表示二进制的1111 1111\n",
    "print(age)"
   ]
  },
  {
   "cell_type": "markdown",
   "metadata": {},
   "source": [
    "### 浮点数\n",
    "- 小数\n",
    "- 计算机里表示浮点数可以有条件的省略\n",
    "- 3.1415\n",
    "- 3.\n",
    "- 0.5\n",
    "- .5\n",
    "- 科学计数法\n",
    "    - 定义跟数学定义\n",
    "    - 写法是用e/E后面跟整数表示10的指数\n",
    "    - 176.23 == 1.7634e2\n",
    "    - 0.876 == 8.76e-1"
   ]
  },
  {
   "cell_type": "code",
   "execution_count": 20,
   "metadata": {},
   "outputs": [
    {
     "name": "stdout",
     "output_type": "stream",
     "text": [
      "156.34\n",
      "0.2\n",
      "0.6\n"
     ]
    }
   ],
   "source": [
    "height = 156.34\n",
    "print(height)\n",
    "\n",
    "shili = 0.2\n",
    "print(shili)\n",
    "\n",
    "shili = .6\n",
    "print(shili)"
   ]
  },
  {
   "cell_type": "markdown",
   "metadata": {},
   "source": [
    "###复数\n",
    "- 定义同数学定义\n",
    "- 一个由实部和虚部构成的数字\n",
    "- 虚部用j/J表示\n",
    "- 5+3j\n",
    "- 3j\n"
   ]
  },
  {
   "cell_type": "markdown",
   "metadata": {},
   "source": [
    "### 布尔值\n",
    "- 表示真假的值\n",
    "- True/False(只有这两个值，真/假,必须大写开头)\n",
    "- python 用1表示真，0表示假\n",
    "- 布尔值可以跟数字直接操作"
   ]
  },
  {
   "cell_type": "code",
   "execution_count": 22,
   "metadata": {},
   "outputs": [
    {
     "name": "stdout",
     "output_type": "stream",
     "text": [
      "19\n"
     ]
    }
   ],
   "source": [
    "#布尔值操作\n",
    "age = 18 + True\n",
    "print(age)"
   ]
  },
  {
   "cell_type": "markdown",
   "metadata": {},
   "source": [
    "## 字符串\n",
    "- 用来表示一串文字信息\n",
    "- 如何表示\n",
    "    - 单引号\n",
    "    - 双引号\n",
    "    - 三引号（三个单引号或者三个双引号）\n",
    "        - 能够括起多行信息\n",
    "- 单双引号可以交替使用"
   ]
  },
  {
   "cell_type": "code",
   "execution_count": 3,
   "metadata": {},
   "outputs": [
    {
     "name": "stdout",
     "output_type": "stream",
     "text": [
      "i love wang\n",
      "我爱王小金\n",
      "\n",
      "i love wang\n",
      "wosdf\n",
      "sdf啊啊啊啊\n",
      "\n"
     ]
    }
   ],
   "source": [
    "love = \"i love wang\"\n",
    "print(love)\n",
    "\n",
    "love = '我爱王小金'\n",
    "print(love)\n",
    "\n",
    "# 单双引号交替使用\n",
    "# <a style=\"color:red\">hahaha</a>\n",
    "#用引号表示上面字符串\n",
    "# html = \"<a style=\"color:rad\">hahaha</a>\"  #这里就乱了\n",
    "#应该是下面\n",
    "html = '<a style=\"color:red\">hahaha</a>'\n",
    "\n",
    "#三引号扩起多行\n",
    "htmls = '''\n",
    "i love wang\n",
    "wosdf\n",
    "sdf啊啊啊啊\n",
    "'''\n",
    "print(htmls)"
   ]
  }
 ],
 "metadata": {
  "kernelspec": {
   "display_name": "Python 3",
   "language": "python",
   "name": "python3"
  },
  "language_info": {
   "codemirror_mode": {
    "name": "ipython",
    "version": 3
   },
   "file_extension": ".py",
   "mimetype": "text/x-python",
   "name": "python",
   "nbconvert_exporter": "python",
   "pygments_lexer": "ipython3",
   "version": "3.7.1"
  }
 },
 "nbformat": 4,
 "nbformat_minor": 2
}
